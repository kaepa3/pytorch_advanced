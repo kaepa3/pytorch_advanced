{
 "cells": [
  {
   "cell_type": "markdown",
   "metadata": {},
   "source": [
    "# 4.6 学習と検証の実施\n",
    "\n",
    "- 本ファイルでは、OpenPoseの学習と検証の実施を行います。AWSのGPUマシンで計算します。\n",
    "- p2.xlargeで45分ほどかかります。\n"
   ]
  },
  {
   "cell_type": "markdown",
   "metadata": {},
   "source": [
    "# 学習目標\n",
    "\n",
    "1.\tOpenPoseの学習を実装できるようになる"
   ]
  },
  {
   "cell_type": "markdown",
   "metadata": {},
   "source": [
    "# 事前準備\n",
    "\n",
    "- これまでの章で実装したクラスと関数をフォルダ「utils」内に用意しています\n"
   ]
  },
  {
   "cell_type": "code",
   "execution_count": 1,
   "metadata": {},
   "outputs": [],
   "source": [
    "# パッケージのimport\n"
   ]
  },
  {
   "cell_type": "code",
   "execution_count": 2,
   "metadata": {},
   "outputs": [],
   "source": [
    "# 初期設定\n",
    "# Setup seeds\n"
   ]
  },
  {
   "cell_type": "markdown",
   "metadata": {},
   "source": [
    "# DataLoader作成"
   ]
  },
  {
   "cell_type": "code",
   "execution_count": 3,
   "metadata": {},
   "outputs": [],
   "source": []
  },
  {
   "cell_type": "markdown",
   "metadata": {},
   "source": [
    "# ネットワークモデル作成"
   ]
  },
  {
   "cell_type": "code",
   "execution_count": 4,
   "metadata": {},
   "outputs": [],
   "source": []
  },
  {
   "cell_type": "markdown",
   "metadata": {},
   "source": [
    "# 損失関数を定義"
   ]
  },
  {
   "cell_type": "code",
   "execution_count": 5,
   "metadata": {},
   "outputs": [],
   "source": [
    "# 損失関数の設定\n"
   ]
  },
  {
   "cell_type": "markdown",
   "metadata": {},
   "source": [
    "# 最適化手法を設定"
   ]
  },
  {
   "cell_type": "code",
   "execution_count": 6,
   "metadata": {},
   "outputs": [],
   "source": []
  },
  {
   "cell_type": "markdown",
   "metadata": {},
   "source": [
    "# 学習を実施"
   ]
  },
  {
   "cell_type": "code",
   "execution_count": 7,
   "metadata": {},
   "outputs": [],
   "source": [
    "# モデルを学習させる関数を作成\n"
   ]
  },
  {
   "cell_type": "code",
   "execution_count": 8,
   "metadata": {},
   "outputs": [
    {
     "name": "stdout",
     "output_type": "stream",
     "text": [
      "使用デバイス： cuda:0\n",
      "-------------\n",
      "Epoch 1/2\n",
      "-------------\n",
      "（train）\n",
      "イテレーション 10 || Loss: 0.0094 || 10iter: 113.7127 sec.\n",
      "イテレーション 20 || Loss: 0.0082 || 10iter: 90.4145 sec.\n",
      "イテレーション 30 || Loss: 0.0069 || 10iter: 88.4890 sec.\n",
      "イテレーション 40 || Loss: 0.0058 || 10iter: 90.9961 sec.\n",
      "イテレーション 50 || Loss: 0.0050 || 10iter: 90.8274 sec.\n",
      "イテレーション 60 || Loss: 0.0042 || 10iter: 89.7553 sec.\n",
      "イテレーション 70 || Loss: 0.0038 || 10iter: 91.1155 sec.\n",
      "イテレーション 80 || Loss: 0.0031 || 10iter: 91.3307 sec.\n",
      "イテレーション 90 || Loss: 0.0027 || 10iter: 91.7214 sec.\n",
      "イテレーション 100 || Loss: 0.0026 || 10iter: 92.2645 sec.\n",
      "イテレーション 110 || Loss: 0.0023 || 10iter: 91.7421 sec.\n",
      "イテレーション 120 || Loss: 0.0020 || 10iter: 90.7930 sec.\n",
      "イテレーション 130 || Loss: 0.0020 || 10iter: 91.3045 sec.\n",
      "イテレーション 140 || Loss: 0.0019 || 10iter: 91.6105 sec.\n",
      "イテレーション 150 || Loss: 0.0016 || 10iter: 90.2619 sec.\n",
      "-------------\n",
      "epoch 1 || Epoch_TRAIN_Loss:0.0043 ||Epoch_VAL_Loss:0.0000\n",
      "timer:  1462.0789 sec.\n",
      "-------------\n",
      "Epoch 2/2\n",
      "-------------\n",
      "（train）\n",
      "イテレーション 160 || Loss: 0.0017 || 10iter: 64.3399 sec.\n",
      "イテレーション 170 || Loss: 0.0017 || 10iter: 91.2324 sec.\n",
      "イテレーション 180 || Loss: 0.0015 || 10iter: 92.3138 sec.\n",
      "イテレーション 190 || Loss: 0.0015 || 10iter: 90.3904 sec.\n",
      "イテレーション 200 || Loss: 0.0015 || 10iter: 90.9617 sec.\n",
      "イテレーション 210 || Loss: 0.0016 || 10iter: 91.2119 sec.\n",
      "イテレーション 220 || Loss: 0.0014 || 10iter: 90.6868 sec.\n",
      "イテレーション 230 || Loss: 0.0016 || 10iter: 90.8710 sec.\n",
      "イテレーション 240 || Loss: 0.0017 || 10iter: 90.3973 sec.\n",
      "イテレーション 250 || Loss: 0.0014 || 10iter: 90.8158 sec.\n",
      "イテレーション 260 || Loss: 0.0012 || 10iter: 92.8508 sec.\n",
      "イテレーション 270 || Loss: 0.0012 || 10iter: 91.9698 sec.\n",
      "イテレーション 280 || Loss: 0.0015 || 10iter: 90.8905 sec.\n",
      "イテレーション 290 || Loss: 0.0011 || 10iter: 91.2742 sec.\n",
      "イテレーション 300 || Loss: 0.0012 || 10iter: 91.0789 sec.\n",
      "-------------\n",
      "epoch 2 || Epoch_TRAIN_Loss:0.0015 ||Epoch_VAL_Loss:0.0000\n",
      "timer:  1437.0403 sec.\n"
     ]
    }
   ],
   "source": [
    "# 学習・検証を実行する\n"
   ]
  },
  {
   "cell_type": "markdown",
   "metadata": {},
   "source": [
    "以上"
   ]
  }
 ],
 "metadata": {
  "kernelspec": {
   "display_name": "Python 3",
   "language": "python",
   "name": "python3"
  },
  "language_info": {
   "codemirror_mode": {
    "name": "ipython",
    "version": 3
   },
   "file_extension": ".py",
   "mimetype": "text/x-python",
   "name": "python",
   "nbconvert_exporter": "python",
   "pygments_lexer": "ipython3",
   "version": "3.7.4"
  }
 },
 "nbformat": 4,
 "nbformat_minor": 2
}
